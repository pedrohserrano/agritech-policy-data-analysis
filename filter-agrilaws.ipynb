{
 "cells": [
  {
   "cell_type": "markdown",
   "metadata": {},
   "source": [
    "## Exporting agriculture patents"
   ]
  },
  {
   "cell_type": "code",
   "execution_count": 2,
   "metadata": {},
   "outputs": [
    {
     "name": "stdout",
     "output_type": "stream",
     "text": [
      "terms to use: 4\n",
      "total laws: 1884\n",
      "total cases: 375\n",
      "agri_laws_and_cases.xlsx\n",
      "Elapsed time: 00:00:00\n"
     ]
    }
   ],
   "source": [
    "from flashtext import KeywordProcessor\n",
    "import time\n",
    "import pandas as pd\n",
    "import warnings\n",
    "warnings.filterwarnings(\"ignore\")\n",
    "\n",
    "### Time of execution\n",
    "start = time.time()\n",
    "\n",
    "terms = ['agriculture','agricultural','agritech','agtech']# list(catalogue.keywords)\n",
    "print('terms to use: {}'.format(len(terms)))\n",
    "data_laws = pd.read_csv('datasets/laws_and_policies_06072020.csv')\n",
    "data_laws['type'] = 'laws_and_policies'\n",
    "data_cases = pd.read_csv('datasets/litigation_cases_06072020.csv')\n",
    "data_cases['type'] = 'litigation_cases'\n",
    "\n",
    "print('total laws: {}'.format(len(data_laws)))\n",
    "print('total cases: {}'.format(len(data_cases)))\n",
    "\n",
    "def extract(vec, dictionary, info=False):\n",
    "    matrix = []\n",
    "    for line in vec:\n",
    "        matrix.append(dictionary.extract_keywords(str(line), span_info=info))\n",
    "    return matrix\n",
    "\n",
    "#proccess\n",
    "data = data_laws[['Title','Description','type']]\\\n",
    "    .rename(columns={'Description':'Summary'})\\\n",
    "    .append(data_cases[['Title','Summary','type']])\n",
    "dictionary = KeywordProcessor()\n",
    "dictionary.add_keywords_from_list(terms)\n",
    "extracted = extract(data.Summary, dictionary)\n",
    "row = [list(set(i)) if len(i)>0 else '' for i in extracted]\n",
    "data['matches'] = [str(i).replace('[', '').replace(']', '') for i in row]\n",
    "data['count_matches'] = [len(i) for i in extracted]\n",
    "data['count_unique_matches'] = [len(set(i)) for i in extracted]\n",
    "\n",
    "#export data\n",
    "export = data[data['count_matches'] > 0].sort_values('count_matches', ascending=False)\n",
    "export.to_excel('datasets/agri_laws_and_cases.xlsx')\n",
    "print('agri_laws_and_cases.xlsx')\n",
    "end = time.time()\n",
    "print('Elapsed time: {}'.format(time.strftime(\"%H:%M:%S\", time.gmtime(end - start))))"
   ]
  },
  {
   "cell_type": "code",
   "execution_count": null,
   "metadata": {},
   "outputs": [],
   "source": []
  }
 ],
 "metadata": {
  "kernelspec": {
   "display_name": "Python 3",
   "language": "python",
   "name": "python3"
  },
  "language_info": {
   "codemirror_mode": {
    "name": "ipython",
    "version": 3
   },
   "file_extension": ".py",
   "mimetype": "text/x-python",
   "name": "python",
   "nbconvert_exporter": "python",
   "pygments_lexer": "ipython3",
   "version": "3.7.6"
  }
 },
 "nbformat": 4,
 "nbformat_minor": 4
}
