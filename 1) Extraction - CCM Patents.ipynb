{
 "cells": [
  {
   "cell_type": "markdown",
   "metadata": {},
   "source": [
    "## Extracting Patent Data on Climate Change"
   ]
  },
  {
   "cell_type": "code",
   "execution_count": 1,
   "metadata": {
    "scrolled": true
   },
   "outputs": [
    {
     "name": "stdout",
     "output_type": "stream",
     "text": [
      "terms to use for monitoring: 5\n"
     ]
    },
    {
     "name": "stderr",
     "output_type": "stream",
     "text": [
      "b'Skipping line 4505264: expected 11 fields, saw 12\\n'\n",
      "b'Skipping line 4540085: expected 11 fields, saw 12\\nSkipping line 4570473: expected 11 fields, saw 12\\n'\n",
      "b'Skipping line 4610402: expected 11 fields, saw 12\\nSkipping line 4652985: expected 11 fields, saw 12\\n'\n",
      "b'Skipping line 4662863: expected 11 fields, saw 12\\n'\n"
     ]
    },
    {
     "name": "stdout",
     "output_type": "stream",
     "text": [
      "total patents database: 6957999\n",
      "Elapsed time: 00:16:54\n"
     ]
    }
   ],
   "source": [
    "#!pip install flashtext\n",
    "from flashtext import KeywordProcessor\n",
    "import time\n",
    "import pandas as pd\n",
    "import warnings\n",
    "warnings.filterwarnings(\"ignore\")\n",
    "\n",
    "### Time of execution\n",
    "start = time.time()\n",
    "\n",
    "monitoring_terms = ['climate','climate change','mitigation', 'climate change mitigation', 'emission reduction']\n",
    "\n",
    "print('terms to use for monitoring: {}'.format(len(monitoring_terms)))\n",
    "#20190312\n",
    "patents = pd.read_csv('http://data.patentsview.org/20190312/download/patent.tsv.zip',\n",
    "                      sep='\\t', error_bad_lines=False, verbose=False)\n",
    "\n",
    "\n",
    "print('total patents database: {}'.format(len(patents)))\n",
    "\n",
    "def extract(vec, dictionary, info=False):\n",
    "    matrix = []\n",
    "    for line in vec:\n",
    "        matrix.append(dictionary.extract_keywords(str(line), span_info=info))\n",
    "    return matrix\n",
    "\n",
    "#proccess\n",
    "data = patents\n",
    "dictionary = KeywordProcessor()\n",
    "dictionary.add_keywords_from_list(monitoring_terms)\n",
    "extracted = extract(data.abstract, dictionary)\n",
    "row = [list(set(i)) if len(i)>0 else '' for i in extracted]\n",
    "data['matches'] = [str(i).replace('[', '').replace(']', '') for i in row]\n",
    "data['count_matches'] = [len(i) for i in extracted]\n",
    "data['count_unique_matches'] = [len(set(i)) for i in extracted]\n",
    "#get the data matches\n",
    "end = time.time()\n",
    "print('Elapsed time: {}'.format(time.strftime(\"%H:%M:%S\", time.gmtime(end - start))))\n"
   ]
  },
  {
   "cell_type": "code",
   "execution_count": 2,
   "metadata": {},
   "outputs": [
    {
     "data": {
      "text/html": [
       "<div>\n",
       "<style scoped>\n",
       "    .dataframe tbody tr th:only-of-type {\n",
       "        vertical-align: middle;\n",
       "    }\n",
       "\n",
       "    .dataframe tbody tr th {\n",
       "        vertical-align: top;\n",
       "    }\n",
       "\n",
       "    .dataframe thead th {\n",
       "        text-align: right;\n",
       "    }\n",
       "</style>\n",
       "<table border=\"1\" class=\"dataframe\">\n",
       "  <thead>\n",
       "    <tr style=\"text-align: right;\">\n",
       "      <th></th>\n",
       "      <th>id</th>\n",
       "      <th>type</th>\n",
       "      <th>number</th>\n",
       "      <th>country</th>\n",
       "      <th>date</th>\n",
       "      <th>abstract</th>\n",
       "      <th>title</th>\n",
       "      <th>kind</th>\n",
       "      <th>num_claims</th>\n",
       "      <th>filename</th>\n",
       "      <th>withdrawn</th>\n",
       "      <th>matches</th>\n",
       "      <th>count_matches</th>\n",
       "      <th>count_unique_matches</th>\n",
       "    </tr>\n",
       "  </thead>\n",
       "  <tbody>\n",
       "    <tr>\n",
       "      <th>0</th>\n",
       "      <td>10000000</td>\n",
       "      <td>utility</td>\n",
       "      <td>10000000</td>\n",
       "      <td>US</td>\n",
       "      <td>2018-06-19</td>\n",
       "      <td>A frequency modulated (coherent) laser detecti...</td>\n",
       "      <td>Coherent LADAR using intra-pixel quadrature de...</td>\n",
       "      <td>B2</td>\n",
       "      <td>20.0</td>\n",
       "      <td>ipg180619.xml</td>\n",
       "      <td>NaN</td>\n",
       "      <td></td>\n",
       "      <td>0</td>\n",
       "      <td>0</td>\n",
       "    </tr>\n",
       "    <tr>\n",
       "      <th>1</th>\n",
       "      <td>10000001</td>\n",
       "      <td>utility</td>\n",
       "      <td>10000001</td>\n",
       "      <td>US</td>\n",
       "      <td>2018-06-19</td>\n",
       "      <td>The injection molding machine includes a fixed...</td>\n",
       "      <td>Injection molding machine and mold thickness c...</td>\n",
       "      <td>B2</td>\n",
       "      <td>12.0</td>\n",
       "      <td>ipg180619.xml</td>\n",
       "      <td>NaN</td>\n",
       "      <td></td>\n",
       "      <td>0</td>\n",
       "      <td>0</td>\n",
       "    </tr>\n",
       "    <tr>\n",
       "      <th>2</th>\n",
       "      <td>10000002</td>\n",
       "      <td>utility</td>\n",
       "      <td>10000002</td>\n",
       "      <td>US</td>\n",
       "      <td>2018-06-19</td>\n",
       "      <td>The present invention relates to: a method for...</td>\n",
       "      <td>Method for manufacturing polymer film and co-e...</td>\n",
       "      <td>B2</td>\n",
       "      <td>9.0</td>\n",
       "      <td>ipg180619.xml</td>\n",
       "      <td>NaN</td>\n",
       "      <td></td>\n",
       "      <td>0</td>\n",
       "      <td>0</td>\n",
       "    </tr>\n",
       "  </tbody>\n",
       "</table>\n",
       "</div>"
      ],
      "text/plain": [
       "         id     type    number country        date  \\\n",
       "0  10000000  utility  10000000      US  2018-06-19   \n",
       "1  10000001  utility  10000001      US  2018-06-19   \n",
       "2  10000002  utility  10000002      US  2018-06-19   \n",
       "\n",
       "                                            abstract  \\\n",
       "0  A frequency modulated (coherent) laser detecti...   \n",
       "1  The injection molding machine includes a fixed...   \n",
       "2  The present invention relates to: a method for...   \n",
       "\n",
       "                                               title kind  num_claims  \\\n",
       "0  Coherent LADAR using intra-pixel quadrature de...   B2        20.0   \n",
       "1  Injection molding machine and mold thickness c...   B2        12.0   \n",
       "2  Method for manufacturing polymer film and co-e...   B2         9.0   \n",
       "\n",
       "        filename  withdrawn matches  count_matches  count_unique_matches  \n",
       "0  ipg180619.xml        NaN                      0                     0  \n",
       "1  ipg180619.xml        NaN                      0                     0  \n",
       "2  ipg180619.xml        NaN                      0                     0  "
      ]
     },
     "execution_count": 2,
     "metadata": {},
     "output_type": "execute_result"
    }
   ],
   "source": [
    "data.head(3)"
   ]
  },
  {
   "cell_type": "code",
   "execution_count": null,
   "metadata": {},
   "outputs": [],
   "source": [
    "start = time.time()\n",
    "#get the data matches\n",
    "data_matches = data[data['count_matches'] > 0]\n",
    "data_matches['date_str'] = [\"\".join(i.split('-')) for i in data_matches.date]\n",
    "links = []\n",
    "for i in data_matches.index:\n",
    "    line = data_matches.loc[i]\n",
    "    link = \"https://worldwide.espacenet.com/publicationDetails/biblio?\"+\\\n",
    "    \"CC=\"+str(line.country)+\\\n",
    "    \"&NR=\"+str(line.id)+\\\n",
    "    \"&KC=\"+str(line.kind)+\\\n",
    "    \"&date=\"+str(line.date_str)+\\\n",
    "    \"&locale=en_EP\"\n",
    "    links.append(link)\n",
    "data_matches['link'] = links\n",
    "print('number of matches found: {}, {}%'.format(len(data_matches), round(100*len(data_matches)/len(data),5)))\n",
    "\n",
    "#export data\n",
    "export = data_matches.sort_values('count_matches', ascending=False).drop_duplicates(subset =\"link\")\n",
    "export.to_excel('climate_change_patents.xlsx')\n",
    "print('Exported in climate_change_patents.xlsx')\n",
    "end = time.time()\n",
    "print('Elapsed time: {}'.format(time.strftime(\"%H:%M:%S\", time.gmtime(end - start))))"
   ]
  }
 ],
 "metadata": {
  "kernelspec": {
   "display_name": "Python 3",
   "language": "python",
   "name": "python3"
  },
  "language_info": {
   "codemirror_mode": {
    "name": "ipython",
    "version": 3
   },
   "file_extension": ".py",
   "mimetype": "text/x-python",
   "name": "python",
   "nbconvert_exporter": "python",
   "pygments_lexer": "ipython3",
   "version": "3.7.6"
  }
 },
 "nbformat": 4,
 "nbformat_minor": 4
}
