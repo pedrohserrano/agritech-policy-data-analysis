{
 "cells": [
  {
   "cell_type": "code",
   "execution_count": 1,
   "metadata": {},
   "outputs": [],
   "source": [
    "import pandas as pd\n",
    "import numpy as np"
   ]
  },
  {
   "cell_type": "markdown",
   "metadata": {},
   "source": [
    "# Laws and Policies"
   ]
  },
  {
   "cell_type": "code",
   "execution_count": 2,
   "metadata": {},
   "outputs": [
    {
     "data": {
      "text/plain": [
       "372"
      ]
     },
     "execution_count": 2,
     "metadata": {},
     "output_type": "execute_result"
    }
   ],
   "source": [
    "laws_and_policies = pd.read_excel('datasets/laws_and_policies_AGRI.xlsx')\n",
    "\n",
    "laws_and_policies=laws_and_policies[laws_and_policies[\"EU_country\"]>0]\n",
    "laws_and_policies=laws_and_policies[laws_and_policies[\"After_2004\"]>0]\n",
    "del laws_and_policies['EU_country']\n",
    "del laws_and_policies['After_2004']\n",
    "laws_and_policies.columns = laws_and_policies.columns.str.replace(' ', '_')\n",
    "laws_and_policies.rename(columns={ laws_and_policies.columns[0]: \"id\" }, inplace = True) # renames column based on position\n",
    "laws_and_policies['Count'] = 1\n",
    "laws_and_policies.Count.sum()"
   ]
  },
  {
   "cell_type": "code",
   "execution_count": 3,
   "metadata": {},
   "outputs": [
    {
     "name": "stdout",
     "output_type": "stream",
     "text": [
      "sample size = 75\n"
     ]
    }
   ],
   "source": [
    "# create the sample of id's\n",
    "total_rows=laws_and_policies['id'].count()\n",
    "sample_size=int(round((total_rows+1)*0.2)) # sample size = 20% of dataset, because original dataset is raher small\n",
    "print(\"sample size = \" + str(sample_size))"
   ]
  },
  {
   "cell_type": "code",
   "execution_count": 4,
   "metadata": {},
   "outputs": [],
   "source": [
    "# sub-set dataset \n",
    "sample_list = list(np.random.choice(list(laws_and_policies.id), sample_size, replace=False))\n",
    "laws_and_policies[laws_and_policies.id.isin(sample_list)][['Title','Keywords','Description','sector_agriculture', 'sector_LULUCF','matches','count_matches']].to_csv('datasets/samples/laws_and_policies.csv')"
   ]
  },
  {
   "cell_type": "code",
   "execution_count": 20,
   "metadata": {},
   "outputs": [
    {
     "data": {
      "text/plain": [
       "[1360,\n",
       " 582,\n",
       " 826,\n",
       " 1618,\n",
       " 398,\n",
       " 420,\n",
       " 652,\n",
       " 1483,\n",
       " 636,\n",
       " 1344,\n",
       " 1766,\n",
       " 1482,\n",
       " 444,\n",
       " 958,\n",
       " 1769,\n",
       " 819,\n",
       " 811,\n",
       " 1579,\n",
       " 1373,\n",
       " 1501,\n",
       " 806,\n",
       " 581,\n",
       " 540,\n",
       " 1376,\n",
       " 781,\n",
       " 1588,\n",
       " 547,\n",
       " 817,\n",
       " 926,\n",
       " 633,\n",
       " 400,\n",
       " 1498,\n",
       " 1591,\n",
       " 815,\n",
       " 1157,\n",
       " 1488,\n",
       " 457,\n",
       " 554,\n",
       " 1337,\n",
       " 1612,\n",
       " 663,\n",
       " 626,\n",
       " 959,\n",
       " 1499,\n",
       " 968,\n",
       " 1485,\n",
       " 450,\n",
       " 704,\n",
       " 1043,\n",
       " 1616,\n",
       " 1159,\n",
       " 1770,\n",
       " 404,\n",
       " 597,\n",
       " 577,\n",
       " 556,\n",
       " 532,\n",
       " 1361,\n",
       " 1380,\n",
       " 1502,\n",
       " 1155,\n",
       " 1153,\n",
       " 1566,\n",
       " 161,\n",
       " 541,\n",
       " 1565,\n",
       " 1039,\n",
       " 1491,\n",
       " 1782,\n",
       " 964,\n",
       " 1333,\n",
       " 627,\n",
       " 770,\n",
       " 954,\n",
       " 1614,\n",
       " 1768,\n",
       " 1490,\n",
       " 105,\n",
       " 658,\n",
       " 1580,\n",
       " 445,\n",
       " 1558,\n",
       " 235,\n",
       " 231]"
      ]
     },
     "execution_count": 20,
     "metadata": {},
     "output_type": "execute_result"
    }
   ],
   "source": [
    "import random\n",
    "random.seed(10)\n",
    "sample_list = list(np.random.choice(list(laws_and_policies.id), sample_size, replace=False))\n",
    "sample_list"
   ]
  },
  {
   "cell_type": "markdown",
   "metadata": {},
   "source": [
    "# Patents"
   ]
  },
  {
   "cell_type": "code",
   "execution_count": 21,
   "metadata": {},
   "outputs": [
    {
     "data": {
      "text/plain": [
       "8377"
      ]
     },
     "execution_count": 21,
     "metadata": {},
     "output_type": "execute_result"
    }
   ],
   "source": [
    "patents = pd.read_excel('datasets/patents_AGRI.xlsx')\n",
    "# patents=patents[patents[\"EU_country\"]>0]\n",
    "patents=patents[patents[\"After_2004\"]>0]\n",
    "# del patents['EU_country']\n",
    "del patents['After_2004']\n",
    "patents.rename(columns={patents.columns[0]: \"id2\" }, inplace = True) # renames column based on position\n",
    "patents['Count'] = 1\n",
    "patents.Count.sum()"
   ]
  },
  {
   "cell_type": "code",
   "execution_count": 6,
   "metadata": {},
   "outputs": [
    {
     "name": "stdout",
     "output_type": "stream",
     "text": [
      "sample size = 84\n"
     ]
    }
   ],
   "source": [
    "# create the sample of id's\n",
    "total_rows=patents['id2'].count()\n",
    "# total_rows\n",
    "sample_size=int(round((total_rows+1)*0.01)) # sample size = 1% of dataset, because original dataset is raher large\n",
    "print(\"sample size = \" + str(sample_size))"
   ]
  },
  {
   "cell_type": "code",
   "execution_count": 7,
   "metadata": {},
   "outputs": [],
   "source": [
    "# sub-set dataset \n",
    "sample_list = list(np.random.choice(list(patents.id2), sample_size, replace=False))\n",
    "patents[patents.id2.isin(sample_list)][['abstract','title','matches','count_matches']].to_csv('datasets/samples/patents.csv')"
   ]
  },
  {
   "cell_type": "code",
   "execution_count": null,
   "metadata": {},
   "outputs": [],
   "source": []
  }
 ],
 "metadata": {
  "kernelspec": {
   "display_name": "Python 3",
   "language": "python",
   "name": "python3"
  },
  "language_info": {
   "codemirror_mode": {
    "name": "ipython",
    "version": 3
   },
   "file_extension": ".py",
   "mimetype": "text/x-python",
   "name": "python",
   "nbconvert_exporter": "python",
   "pygments_lexer": "ipython3",
   "version": "3.7.6"
  }
 },
 "nbformat": 4,
 "nbformat_minor": 4
}
