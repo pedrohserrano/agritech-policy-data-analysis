{
 "cells": [
  {
   "cell_type": "markdown",
   "metadata": {},
   "source": [
    "# CleanTechTag \n",
    "## (Clean Technologies Tagging) - Data Analysis\n",
    "---"
   ]
  },
  {
   "cell_type": "code",
   "execution_count": 9,
   "metadata": {},
   "outputs": [],
   "source": [
    "import pandas as pd\n",
    "import numpy as np\n",
    "import matplotlib.pyplot as plt"
   ]
  },
  {
   "cell_type": "code",
   "execution_count": 10,
   "metadata": {},
   "outputs": [],
   "source": [
    "data_funding = pd.read_csv('datasets/cleantechtag_joint_results.csv') #only once is need"
   ]
  },
  {
   "cell_type": "code",
   "execution_count": 11,
   "metadata": {},
   "outputs": [
    {
     "data": {
      "text/html": [
       "<div>\n",
       "<style scoped>\n",
       "    .dataframe tbody tr th:only-of-type {\n",
       "        vertical-align: middle;\n",
       "    }\n",
       "\n",
       "    .dataframe tbody tr th {\n",
       "        vertical-align: top;\n",
       "    }\n",
       "\n",
       "    .dataframe thead th {\n",
       "        text-align: right;\n",
       "    }\n",
       "</style>\n",
       "<table border=\"1\" class=\"dataframe\">\n",
       "  <thead>\n",
       "    <tr style=\"text-align: right;\">\n",
       "      <th></th>\n",
       "      <th>Unnamed: 0</th>\n",
       "      <th>rcn</th>\n",
       "      <th>id</th>\n",
       "      <th>acronym</th>\n",
       "      <th>status</th>\n",
       "      <th>programme</th>\n",
       "      <th>topics</th>\n",
       "      <th>frameworkProgramme</th>\n",
       "      <th>title</th>\n",
       "      <th>startDate</th>\n",
       "      <th>...</th>\n",
       "      <th>objective</th>\n",
       "      <th>totalCost</th>\n",
       "      <th>ecMaxContribution</th>\n",
       "      <th>call</th>\n",
       "      <th>fundingScheme</th>\n",
       "      <th>coordinator</th>\n",
       "      <th>coordinatorCountry</th>\n",
       "      <th>participants</th>\n",
       "      <th>participantCountries</th>\n",
       "      <th>subjects</th>\n",
       "    </tr>\n",
       "  </thead>\n",
       "  <tbody>\n",
       "    <tr>\n",
       "      <th>0</th>\n",
       "      <td>6</td>\n",
       "      <td>225983</td>\n",
       "      <td>875629</td>\n",
       "      <td>NAIMA</td>\n",
       "      <td>SIGNED</td>\n",
       "      <td>H2020-EU.2.1.3.;H2020-EU.2.1.2.</td>\n",
       "      <td>LC-BAT-2-2019</td>\n",
       "      <td>H2020</td>\n",
       "      <td>NA ION MATERIALS AS ESSENTIAL COMPONENTS TO MA...</td>\n",
       "      <td>2019-12-01</td>\n",
       "      <td>...</td>\n",
       "      <td>The EU is transitioning to The EU is transitio...</td>\n",
       "      <td>7999897.03</td>\n",
       "      <td>7999897.03</td>\n",
       "      <td>H2020-LC-BAT-2019</td>\n",
       "      <td>RIA</td>\n",
       "      <td>TIAMAT</td>\n",
       "      <td>FR</td>\n",
       "      <td>BIOKOL SVERIGE AB;VLAAMSE INSTELLING VOOR TECH...</td>\n",
       "      <td>SE;BE;BG;ES;FR;NL;DE;SI</td>\n",
       "      <td>NaN</td>\n",
       "    </tr>\n",
       "    <tr>\n",
       "      <th>1</th>\n",
       "      <td>32</td>\n",
       "      <td>226246</td>\n",
       "      <td>870245</td>\n",
       "      <td>GEOCEP</td>\n",
       "      <td>SIGNED</td>\n",
       "      <td>H2020-EU.1.3.3.</td>\n",
       "      <td>MSCA-RISE-2019</td>\n",
       "      <td>H2020</td>\n",
       "      <td>Global Excellence in Modeling Climate and Ener...</td>\n",
       "      <td>2020-10-01</td>\n",
       "      <td>...</td>\n",
       "      <td>The global GEOCEP project provides an innovati...</td>\n",
       "      <td>3036000.00</td>\n",
       "      <td>2254000.00</td>\n",
       "      <td>H2020-MSCA-RISE-2019</td>\n",
       "      <td>MSCA-RISE</td>\n",
       "      <td>UNIVERZITA KARLOVA</td>\n",
       "      <td>CZ</td>\n",
       "      <td>LONDON SCHOOL OF ECONOMICS AND POLITICAL SCIEN...</td>\n",
       "      <td>UK;CH;IT;FR</td>\n",
       "      <td>NaN</td>\n",
       "    </tr>\n",
       "    <tr>\n",
       "      <th>2</th>\n",
       "      <td>39</td>\n",
       "      <td>226082</td>\n",
       "      <td>887865</td>\n",
       "      <td>SAAT2020</td>\n",
       "      <td>SIGNED</td>\n",
       "      <td>H2020-EU.3.;H2020-EU.2.3.;H2020-EU.2.1.</td>\n",
       "      <td>EIC-SMEInst-2018-2020</td>\n",
       "      <td>H2020</td>\n",
       "      <td>Scoring crops with Agricultural Artificial int...</td>\n",
       "      <td>2019-12-01</td>\n",
       "      <td>...</td>\n",
       "      <td>By 2050, our planet will be home to more than ...</td>\n",
       "      <td>71429.00</td>\n",
       "      <td>50000.00</td>\n",
       "      <td>H2020-SMEInst-2018-2020-1</td>\n",
       "      <td>SME-1</td>\n",
       "      <td>COMPUTOMICS GMBH</td>\n",
       "      <td>DE</td>\n",
       "      <td>NaN</td>\n",
       "      <td>NaN</td>\n",
       "      <td>NaN</td>\n",
       "    </tr>\n",
       "    <tr>\n",
       "      <th>3</th>\n",
       "      <td>40</td>\n",
       "      <td>226019</td>\n",
       "      <td>889249</td>\n",
       "      <td>BTSys</td>\n",
       "      <td>SIGNED</td>\n",
       "      <td>H2020-EU.3.;H2020-EU.2.3.;H2020-EU.2.1.</td>\n",
       "      <td>EIC-SMEInst-2018-2020</td>\n",
       "      <td>H2020</td>\n",
       "      <td>Biosolids treatment system for transformation ...</td>\n",
       "      <td>2019-11-01</td>\n",
       "      <td>...</td>\n",
       "      <td>Global annual organic waste generation is set ...</td>\n",
       "      <td>71429.00</td>\n",
       "      <td>50000.00</td>\n",
       "      <td>H2020-SMEInst-2018-2020-1</td>\n",
       "      <td>SME-1</td>\n",
       "      <td>AGRISTARBIO - ENVIRONMENTAL SOLUTIONS LDA</td>\n",
       "      <td>PT</td>\n",
       "      <td>NaN</td>\n",
       "      <td>NaN</td>\n",
       "      <td>NaN</td>\n",
       "    </tr>\n",
       "    <tr>\n",
       "      <th>4</th>\n",
       "      <td>53</td>\n",
       "      <td>225952</td>\n",
       "      <td>888396</td>\n",
       "      <td>Green-Insulation</td>\n",
       "      <td>SIGNED</td>\n",
       "      <td>H2020-EU.3.;H2020-EU.2.3.;H2020-EU.2.1.</td>\n",
       "      <td>EIC-SMEInst-2018-2020</td>\n",
       "      <td>H2020</td>\n",
       "      <td>Green-Tech Fibre Insulation</td>\n",
       "      <td>2019-12-01</td>\n",
       "      <td>...</td>\n",
       "      <td>Miljøskærm is a Danish SME having independentl...</td>\n",
       "      <td>71429.00</td>\n",
       "      <td>50000.00</td>\n",
       "      <td>H2020-SMEInst-2018-2020-1</td>\n",
       "      <td>SME-1</td>\n",
       "      <td>MILJOSKAERM APS</td>\n",
       "      <td>DK</td>\n",
       "      <td>NaN</td>\n",
       "      <td>NaN</td>\n",
       "      <td>NaN</td>\n",
       "    </tr>\n",
       "  </tbody>\n",
       "</table>\n",
       "<p>5 rows × 22 columns</p>\n",
       "</div>"
      ],
      "text/plain": [
       "   Unnamed: 0     rcn      id           acronym  status  \\\n",
       "0           6  225983  875629             NAIMA  SIGNED   \n",
       "1          32  226246  870245            GEOCEP  SIGNED   \n",
       "2          39  226082  887865          SAAT2020  SIGNED   \n",
       "3          40  226019  889249             BTSys  SIGNED   \n",
       "4          53  225952  888396  Green-Insulation  SIGNED   \n",
       "\n",
       "                                 programme                 topics  \\\n",
       "0          H2020-EU.2.1.3.;H2020-EU.2.1.2.          LC-BAT-2-2019   \n",
       "1                          H2020-EU.1.3.3.         MSCA-RISE-2019   \n",
       "2  H2020-EU.3.;H2020-EU.2.3.;H2020-EU.2.1.  EIC-SMEInst-2018-2020   \n",
       "3  H2020-EU.3.;H2020-EU.2.3.;H2020-EU.2.1.  EIC-SMEInst-2018-2020   \n",
       "4  H2020-EU.3.;H2020-EU.2.3.;H2020-EU.2.1.  EIC-SMEInst-2018-2020   \n",
       "\n",
       "  frameworkProgramme                                              title  \\\n",
       "0              H2020  NA ION MATERIALS AS ESSENTIAL COMPONENTS TO MA...   \n",
       "1              H2020  Global Excellence in Modeling Climate and Ener...   \n",
       "2              H2020  Scoring crops with Agricultural Artificial int...   \n",
       "3              H2020  Biosolids treatment system for transformation ...   \n",
       "4              H2020                        Green-Tech Fibre Insulation   \n",
       "\n",
       "    startDate  ...                                          objective  \\\n",
       "0  2019-12-01  ...  The EU is transitioning to The EU is transitio...   \n",
       "1  2020-10-01  ...  The global GEOCEP project provides an innovati...   \n",
       "2  2019-12-01  ...  By 2050, our planet will be home to more than ...   \n",
       "3  2019-11-01  ...  Global annual organic waste generation is set ...   \n",
       "4  2019-12-01  ...  Miljøskærm is a Danish SME having independentl...   \n",
       "\n",
       "    totalCost ecMaxContribution                       call  fundingScheme  \\\n",
       "0  7999897.03        7999897.03          H2020-LC-BAT-2019            RIA   \n",
       "1  3036000.00        2254000.00       H2020-MSCA-RISE-2019      MSCA-RISE   \n",
       "2    71429.00          50000.00  H2020-SMEInst-2018-2020-1          SME-1   \n",
       "3    71429.00          50000.00  H2020-SMEInst-2018-2020-1          SME-1   \n",
       "4    71429.00          50000.00  H2020-SMEInst-2018-2020-1          SME-1   \n",
       "\n",
       "                                 coordinator coordinatorCountry  \\\n",
       "0                                     TIAMAT                 FR   \n",
       "1                         UNIVERZITA KARLOVA                 CZ   \n",
       "2                           COMPUTOMICS GMBH                 DE   \n",
       "3  AGRISTARBIO - ENVIRONMENTAL SOLUTIONS LDA                 PT   \n",
       "4                            MILJOSKAERM APS                 DK   \n",
       "\n",
       "                                        participants     participantCountries  \\\n",
       "0  BIOKOL SVERIGE AB;VLAAMSE INSTELLING VOOR TECH...  SE;BE;BG;ES;FR;NL;DE;SI   \n",
       "1  LONDON SCHOOL OF ECONOMICS AND POLITICAL SCIEN...              UK;CH;IT;FR   \n",
       "2                                                NaN                      NaN   \n",
       "3                                                NaN                      NaN   \n",
       "4                                                NaN                      NaN   \n",
       "\n",
       "  subjects  \n",
       "0      NaN  \n",
       "1      NaN  \n",
       "2      NaN  \n",
       "3      NaN  \n",
       "4      NaN  \n",
       "\n",
       "[5 rows x 22 columns]"
      ]
     },
     "execution_count": 11,
     "metadata": {},
     "output_type": "execute_result"
    }
   ],
   "source": [
    "data_funding.head()"
   ]
  },
  {
   "cell_type": "code",
   "execution_count": 57,
   "metadata": {},
   "outputs": [],
   "source": [
    "data_funding.startDate = pd.to_datetime(data_funding.startDate)"
   ]
  },
  {
   "cell_type": "code",
   "execution_count": 58,
   "metadata": {},
   "outputs": [],
   "source": [
    "data_funding['First_year'] = pd.DatetimeIndex(data_funding['startDate']).year"
   ]
  },
  {
   "cell_type": "code",
   "execution_count": 59,
   "metadata": {},
   "outputs": [
    {
     "data": {
      "text/plain": [
       "1732"
      ]
     },
     "execution_count": 59,
     "metadata": {},
     "output_type": "execute_result"
    }
   ],
   "source": [
    "len(data_funding)"
   ]
  },
  {
   "cell_type": "markdown",
   "metadata": {},
   "source": [
    "---"
   ]
  },
  {
   "cell_type": "markdown",
   "metadata": {},
   "source": [
    "### Demanded technologies"
   ]
  },
  {
   "cell_type": "code",
   "execution_count": 12,
   "metadata": {},
   "outputs": [],
   "source": [
    "catalogue = pd.read_csv('datasets/cleantechtag_catalogue.csv')"
   ]
  },
  {
   "cell_type": "code",
   "execution_count": 55,
   "metadata": {},
   "outputs": [],
   "source": [
    "sector_counts = pd.pivot_table(\n",
    "    catalogue,\n",
    "    index='id',\n",
    "    columns='sector',\n",
    "    aggfunc='count',\n",
    "    fill_value=0)['category'].reset_index()"
   ]
  },
  {
   "cell_type": "code",
   "execution_count": 56,
   "metadata": {},
   "outputs": [
    {
     "data": {
      "text/html": [
       "<div>\n",
       "<style scoped>\n",
       "    .dataframe tbody tr th:only-of-type {\n",
       "        vertical-align: middle;\n",
       "    }\n",
       "\n",
       "    .dataframe tbody tr th {\n",
       "        vertical-align: top;\n",
       "    }\n",
       "\n",
       "    .dataframe thead th {\n",
       "        text-align: right;\n",
       "    }\n",
       "</style>\n",
       "<table border=\"1\" class=\"dataframe\">\n",
       "  <thead>\n",
       "    <tr style=\"text-align: right;\">\n",
       "      <th>sector</th>\n",
       "      <th>id</th>\n",
       "      <th>Agriculture</th>\n",
       "      <th>Buildings</th>\n",
       "      <th>Energy</th>\n",
       "      <th>Human settlements</th>\n",
       "      <th>Industry</th>\n",
       "      <th>Transport</th>\n",
       "    </tr>\n",
       "  </thead>\n",
       "  <tbody>\n",
       "    <tr>\n",
       "      <th>0</th>\n",
       "      <td>633192</td>\n",
       "      <td>0</td>\n",
       "      <td>1</td>\n",
       "      <td>0</td>\n",
       "      <td>1</td>\n",
       "      <td>0</td>\n",
       "      <td>0</td>\n",
       "    </tr>\n",
       "    <tr>\n",
       "      <th>1</th>\n",
       "      <td>633962</td>\n",
       "      <td>0</td>\n",
       "      <td>0</td>\n",
       "      <td>0</td>\n",
       "      <td>1</td>\n",
       "      <td>1</td>\n",
       "      <td>0</td>\n",
       "    </tr>\n",
       "    <tr>\n",
       "      <th>2</th>\n",
       "      <td>635201</td>\n",
       "      <td>1</td>\n",
       "      <td>0</td>\n",
       "      <td>0</td>\n",
       "      <td>0</td>\n",
       "      <td>0</td>\n",
       "      <td>0</td>\n",
       "    </tr>\n",
       "  </tbody>\n",
       "</table>\n",
       "</div>"
      ],
      "text/plain": [
       "sector      id  Agriculture  Buildings  Energy  Human settlements  Industry  \\\n",
       "0       633192            0          1       0                  1         0   \n",
       "1       633962            0          0       0                  1         1   \n",
       "2       635201            1          0       0                  0         0   \n",
       "\n",
       "sector  Transport  \n",
       "0               0  \n",
       "1               0  \n",
       "2               0  "
      ]
     },
     "execution_count": 56,
     "metadata": {},
     "output_type": "execute_result"
    }
   ],
   "source": [
    "sector_counts.head(3)"
   ]
  },
  {
   "cell_type": "markdown",
   "metadata": {},
   "source": [
    "### Cost analysis (Calculating EU contribution)"
   ]
  },
  {
   "cell_type": "code",
   "execution_count": 60,
   "metadata": {},
   "outputs": [],
   "source": [
    "data_funding = pd\\\n",
    "    .merge(data_funding, sector_counts,\n",
    "             how='left', on='id')\\\n",
    "    .sort_values(['startDate','ecMaxContribution'], ascending=False)\\\n",
    "    .reset_index()"
   ]
  },
  {
   "cell_type": "code",
   "execution_count": 62,
   "metadata": {},
   "outputs": [
    {
     "data": {
      "text/html": [
       "<div>\n",
       "<style scoped>\n",
       "    .dataframe tbody tr th:only-of-type {\n",
       "        vertical-align: middle;\n",
       "    }\n",
       "\n",
       "    .dataframe tbody tr th {\n",
       "        vertical-align: top;\n",
       "    }\n",
       "\n",
       "    .dataframe thead th {\n",
       "        text-align: right;\n",
       "    }\n",
       "</style>\n",
       "<table border=\"1\" class=\"dataframe\">\n",
       "  <thead>\n",
       "    <tr style=\"text-align: right;\">\n",
       "      <th></th>\n",
       "      <th>index</th>\n",
       "      <th>Unnamed: 0</th>\n",
       "      <th>rcn</th>\n",
       "      <th>id</th>\n",
       "      <th>acronym</th>\n",
       "      <th>status</th>\n",
       "      <th>programme</th>\n",
       "      <th>topics</th>\n",
       "      <th>frameworkProgramme</th>\n",
       "      <th>title</th>\n",
       "      <th>...</th>\n",
       "      <th>participants</th>\n",
       "      <th>participantCountries</th>\n",
       "      <th>subjects</th>\n",
       "      <th>First_year</th>\n",
       "      <th>Agriculture</th>\n",
       "      <th>Buildings</th>\n",
       "      <th>Energy</th>\n",
       "      <th>Human settlements</th>\n",
       "      <th>Industry</th>\n",
       "      <th>Transport</th>\n",
       "    </tr>\n",
       "  </thead>\n",
       "  <tbody>\n",
       "    <tr>\n",
       "      <th>0</th>\n",
       "      <td>1</td>\n",
       "      <td>32</td>\n",
       "      <td>226246</td>\n",
       "      <td>870245</td>\n",
       "      <td>GEOCEP</td>\n",
       "      <td>SIGNED</td>\n",
       "      <td>H2020-EU.1.3.3.</td>\n",
       "      <td>MSCA-RISE-2019</td>\n",
       "      <td>H2020</td>\n",
       "      <td>Global Excellence in Modeling Climate and Ener...</td>\n",
       "      <td>...</td>\n",
       "      <td>LONDON SCHOOL OF ECONOMICS AND POLITICAL SCIEN...</td>\n",
       "      <td>UK;CH;IT;FR</td>\n",
       "      <td>NaN</td>\n",
       "      <td>2020</td>\n",
       "      <td>0.0</td>\n",
       "      <td>0.0</td>\n",
       "      <td>0.0</td>\n",
       "      <td>0.0</td>\n",
       "      <td>1.0</td>\n",
       "      <td>0.0</td>\n",
       "    </tr>\n",
       "    <tr>\n",
       "      <th>1</th>\n",
       "      <td>352</td>\n",
       "      <td>5141</td>\n",
       "      <td>222703</td>\n",
       "      <td>838508</td>\n",
       "      <td>THERM</td>\n",
       "      <td>SIGNED</td>\n",
       "      <td>H2020-EU.1.3.2.</td>\n",
       "      <td>MSCA-IF-2018</td>\n",
       "      <td>H2020</td>\n",
       "      <td>Transport of Heat in hEteRogeneous Media</td>\n",
       "      <td>...</td>\n",
       "      <td>NaN</td>\n",
       "      <td>NaN</td>\n",
       "      <td>NaN</td>\n",
       "      <td>2020</td>\n",
       "      <td>0.0</td>\n",
       "      <td>0.0</td>\n",
       "      <td>1.0</td>\n",
       "      <td>0.0</td>\n",
       "      <td>0.0</td>\n",
       "      <td>0.0</td>\n",
       "    </tr>\n",
       "    <tr>\n",
       "      <th>2</th>\n",
       "      <td>367</td>\n",
       "      <td>5410</td>\n",
       "      <td>222176</td>\n",
       "      <td>840222</td>\n",
       "      <td>FracTAlS</td>\n",
       "      <td>SIGNED</td>\n",
       "      <td>H2020-EU.1.3.2.</td>\n",
       "      <td>MSCA-IF-2018</td>\n",
       "      <td>H2020</td>\n",
       "      <td>High Cycle Fatigue Cracking of Meso- and Micro...</td>\n",
       "      <td>...</td>\n",
       "      <td>NaN</td>\n",
       "      <td>NaN</td>\n",
       "      <td>NaN</td>\n",
       "      <td>2020</td>\n",
       "      <td>0.0</td>\n",
       "      <td>0.0</td>\n",
       "      <td>0.0</td>\n",
       "      <td>0.0</td>\n",
       "      <td>1.0</td>\n",
       "      <td>0.0</td>\n",
       "    </tr>\n",
       "  </tbody>\n",
       "</table>\n",
       "<p>3 rows × 30 columns</p>\n",
       "</div>"
      ],
      "text/plain": [
       "   index  Unnamed: 0     rcn      id   acronym  status        programme  \\\n",
       "0      1          32  226246  870245    GEOCEP  SIGNED  H2020-EU.1.3.3.   \n",
       "1    352        5141  222703  838508     THERM  SIGNED  H2020-EU.1.3.2.   \n",
       "2    367        5410  222176  840222  FracTAlS  SIGNED  H2020-EU.1.3.2.   \n",
       "\n",
       "           topics frameworkProgramme  \\\n",
       "0  MSCA-RISE-2019              H2020   \n",
       "1    MSCA-IF-2018              H2020   \n",
       "2    MSCA-IF-2018              H2020   \n",
       "\n",
       "                                               title  ...  \\\n",
       "0  Global Excellence in Modeling Climate and Ener...  ...   \n",
       "1           Transport of Heat in hEteRogeneous Media  ...   \n",
       "2  High Cycle Fatigue Cracking of Meso- and Micro...  ...   \n",
       "\n",
       "                                        participants participantCountries  \\\n",
       "0  LONDON SCHOOL OF ECONOMICS AND POLITICAL SCIEN...          UK;CH;IT;FR   \n",
       "1                                                NaN                  NaN   \n",
       "2                                                NaN                  NaN   \n",
       "\n",
       "  subjects First_year  Agriculture  Buildings Energy Human settlements  \\\n",
       "0      NaN       2020          0.0        0.0    0.0               0.0   \n",
       "1      NaN       2020          0.0        0.0    1.0               0.0   \n",
       "2      NaN       2020          0.0        0.0    0.0               0.0   \n",
       "\n",
       "  Industry Transport  \n",
       "0      1.0       0.0  \n",
       "1      0.0       0.0  \n",
       "2      1.0       0.0  \n",
       "\n",
       "[3 rows x 30 columns]"
      ]
     },
     "execution_count": 62,
     "metadata": {},
     "output_type": "execute_result"
    }
   ],
   "source": [
    "data_funding.head(3)"
   ]
  },
  {
   "cell_type": "code",
   "execution_count": 71,
   "metadata": {},
   "outputs": [],
   "source": [
    "######"
   ]
  },
  {
   "cell_type": "code",
   "execution_count": 66,
   "metadata": {},
   "outputs": [],
   "source": [
    "data_funding['count'] = 1\n",
    "data_funding['agricultur_fund'] = np.where((data_funding['Agriculture']==0), 0,1)\n",
    "data_funding['agricultur_fund_yes'] = np.where((data_funding['Agriculture']==0), \"no\", \"yes\")"
   ]
  },
  {
   "cell_type": "markdown",
   "metadata": {},
   "source": [
    "# funding per year"
   ]
  },
  {
   "cell_type": "markdown",
   "metadata": {},
   "source": [
    "#### all funding + agricultural fund per year"
   ]
  },
  {
   "cell_type": "code",
   "execution_count": 73,
   "metadata": {},
   "outputs": [
    {
     "data": {
      "text/plain": [
       "Text(0.5, 1.0, 'Number of agriculture and other projects per year')"
      ]
     },
     "execution_count": 73,
     "metadata": {},
     "output_type": "execute_result"
    },
    {
     "data": {
      "image/png": "[encoded data removed]",
      "text/plain": [
       "<Figure size 1440x720 with 1 Axes>"
      ]
     },
     "metadata": {
      "needs_background": "light"
     },
     "output_type": "display_data"
    }
   ],
   "source": [
    "import matplotlib.pyplot as plt\n",
    "from pylab import rcParams\n",
    "rcParams['figure.figsize'] = 20, 10 # changes the dimensions of the plot (width, height)\n",
    "\n",
    "data_funding.groupby(['First_year','agricultur_fund_yes']).size().unstack().plot(kind='bar',stacked=True)\n",
    "\n",
    "plt.xlabel('year', fontsize = 20)\n",
    "plt.ylabel('number of projects', fontsize = 20)\n",
    "L=plt.legend()\n",
    "L.get_texts()[0].set_text('other projects')\n",
    "L.get_texts()[1].set_text('agriculture projects')\n",
    "plt.title('Number of agriculture and other projects per year', fontsize = 40)\n",
    "\n",
    "#plt.savefig('C:/Users/Lina_/Documents/GitHub/agritech-policy-data-analysis/Graphics/Laws_total_divided_per_year.png', bbox_inches = \"tight\") # \"tight\" ensures that the whole labels are shown in the plot\n"
   ]
  },
  {
   "cell_type": "code",
   "execution_count": 83,
   "metadata": {},
   "outputs": [
    {
     "data": {
      "image/png": "[encoded data removed]",
      "text/plain": [
       "<Figure size 1440x720 with 1 Axes>"
      ]
     },
     "metadata": {
      "needs_background": "light"
     },
     "output_type": "display_data"
    }
   ],
   "source": [
    "rcParams['figure.figsize'] = 20, 10 # changes the dimensions of the plot (width, height)\n",
    "\n",
    "data_funding.groupby(['First_year','agricultur_fund_yes']).agg({'ecMaxContribution':'sum'}).unstack().plot(kind='bar',stacked=True)\n",
    "\n",
    "plt.xlabel('year', fontsize = 20)\n",
    "plt.ylabel('Total EU Funding', fontsize = 20)\n",
    "L=plt.legend()\n",
    "L.get_texts()[0].set_text('other projects')\n",
    "L.get_texts()[1].set_text('agriculture projects')\n",
    "plt.title('Total EU funding agriculture and non-agriculture per year', fontsize = 40)\n",
    "\n",
    "plt.savefig('graphics/Funding_total_divided_per_year.png', bbox_inches = \"tight\") # \"tight\" ensures that the whole labels are shown in the plot"
   ]
  },
  {
   "cell_type": "code",
   "execution_count": null,
   "metadata": {},
   "outputs": [],
   "source": []
  },
  {
   "cell_type": "code",
   "execution_count": null,
   "metadata": {},
   "outputs": [],
   "source": []
  }
 ],
 "metadata": {
  "kernelspec": {
   "display_name": "Python 3",
   "language": "python",
   "name": "python3"
  },
  "language_info": {
   "codemirror_mode": {
    "name": "ipython",
    "version": 3
   },
   "file_extension": ".py",
   "mimetype": "text/x-python",
   "name": "python",
   "nbconvert_exporter": "python",
   "pygments_lexer": "ipython3",
   "version": "3.7.6"
  },
  "nteract": {
   "version": "0.15.0"
  }
 },
 "nbformat": 4,
 "nbformat_minor": 4
}
