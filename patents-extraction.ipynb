{
 "cells": [
  {
   "cell_type": "markdown",
   "metadata": {},
   "source": [
    "## Exporting agriculture patents"
   ]
  },
  {
   "cell_type": "code",
   "execution_count": null,
   "metadata": {
    "scrolled": true
   },
   "outputs": [
    {
     "name": "stdout",
     "output_type": "stream",
     "text": [
      "terms to use for monitoring: 3\n"
     ]
    }
   ],
   "source": [
    "from flashtext import KeywordProcessor\n",
    "import time\n",
    "import pandas as pd\n",
    "import warnings\n",
    "warnings.filterwarnings(\"ignore\")\n",
    "\n",
    "### Time of execution\n",
    "start = time.time()\n",
    "\n",
    "# catalogue = pd.read_csv('catalogue.csv')\n",
    "# catalogue.fillna(method='ffill', inplace = True)\n",
    "monitoring_terms = ['agriculture','agricultural','agritech']# list(catalogue.keywords)\n",
    "\n",
    "print('terms to use for monitoring: {}'.format(len(monitoring_terms)))\n",
    "\n",
    "patents = pd.read_csv('http://data.patentsview.org/20190312/download/patent.tsv.zip',\n",
    "                      sep='\\t', error_bad_lines=False, verbose=False)\n",
    "\n",
    "\n",
    "print('total patents database: {}'.format(len(patents)))\n",
    "\n",
    "def extract(vec, dictionary, info=False):\n",
    "    matrix = []\n",
    "    for line in vec:\n",
    "        matrix.append(dictionary.extract_keywords(str(line), span_info=info))\n",
    "    return matrix\n",
    "\n",
    "#proccess\n",
    "data = patents\n",
    "dictionary = KeywordProcessor()\n",
    "dictionary.add_keywords_from_list(monitoring_terms)\n",
    "extracted = extract(data.abstract, dictionary)\n",
    "row = [list(set(i)) if len(i)>0 else '' for i in extracted]\n",
    "data['matches'] = [str(i).replace('[', '').replace(']', '') for i in row]\n",
    "data['count_matches'] = [len(i) for i in extracted]\n",
    "data['count_unique_matches'] = [len(set(i)) for i in extracted]\n",
    "\n",
    "#get the data matches\n",
    "data_matches = data[data['count_matches'] > 0]\n",
    "data_matches['date_str'] = [\"\".join(i.split('-')) for i in data_matches.date]\n",
    "links, countries, dates = [], [], []\n",
    "for i in data_matches.index:\n",
    "    line = data_matches.loc[i]\n",
    "    link = \"https://worldwide.espacenet.com/publicationDetails/biblio?\"+\\\n",
    "    \"CC=\"+str(line.country)+\\\n",
    "    \"&NR=\"+str(line.id)+\\\n",
    "    \"&KC=\"+str(line.kind)+\\\n",
    "    \"&date=\"+str(line.date_str)+\\\n",
    "    \"&locale=en_EP\"\n",
    "    links.append(link)\n",
    "    countries.append(str(line.country))\n",
    "    dates.append(str(line.date_str))\n",
    "\n",
    "data_matches['link'] = links\n",
    "data_matches['country'] = countries\n",
    "data_matches['date']= dates\n",
    "print('number of matches found: {}, {}%'.format(len(data_matches), round(100*len(data_matches)/len(data),5)))\n",
    "\n",
    "#export data\n",
    "export = data_matches.sort_values('count_matches', ascending=False)\n",
    "export = export[['title','link','abstract','matches','country','date']].drop_duplicates(subset =\"link\")\n",
    "export.columns = ['name','url','description','topic','country','date']\n",
    "export.to_excel('agripatents3.xlsx')\n",
    "print('Exported in agripatents3.xlsx')\n",
    "end = time.time()\n",
    "print('Elapsed time: {}'.format(time.strftime(\"%H:%M:%S\", time.gmtime(end - start))))"
   ]
  },
  {
   "cell_type": "markdown",
   "metadata": {},
   "source": [
    "# Notes for next search:\n",
    "add IPC, date and country as retrieved information\n",
    "\n",
    "search for sustainability (instead of agriculture) + filter on agriculture patents based on IPC"
   ]
  }
 ],
 "metadata": {
  "kernelspec": {
   "display_name": "Python 3",
   "language": "python",
   "name": "python3"
  },
  "language_info": {
   "codemirror_mode": {
    "name": "ipython",
    "version": 3
   },
   "file_extension": ".py",
   "mimetype": "text/x-python",
   "name": "python",
   "nbconvert_exporter": "python",
   "pygments_lexer": "ipython3",
   "version": "3.7.6"
  }
 },
 "nbformat": 4,
 "nbformat_minor": 4
}
