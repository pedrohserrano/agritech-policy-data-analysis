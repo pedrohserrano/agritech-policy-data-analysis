{
 "cells": [
  {
   "cell_type": "code",
   "execution_count": 1,
   "metadata": {},
   "outputs": [],
   "source": [
    "import pandas as pd\n",
    "import numpy as np"
   ]
  },
  {
   "cell_type": "markdown",
   "metadata": {},
   "source": [
    "# Laws and Policies"
   ]
  },
  {
   "cell_type": "code",
   "execution_count": 2,
   "metadata": {},
   "outputs": [
    {
     "data": {
      "text/plain": [
       "63"
      ]
     },
     "execution_count": 2,
     "metadata": {},
     "output_type": "execute_result"
    }
   ],
   "source": [
    "laws_and_policies = pd.read_excel('datasets/laws_and_policies_AGRI.xlsx')\n",
    "\n",
    "laws_and_policies=laws_and_policies[laws_and_policies[\"EU_country\"]>0]\n",
    "laws_and_policies=laws_and_policies[laws_and_policies[\"After_2004\"]>0]\n",
    "laws_and_policies=laws_and_policies[laws_and_policies[\"count_matches\"]>0]\n",
    "del laws_and_policies['EU_country']\n",
    "del laws_and_policies['After_2004']\n",
    "laws_and_policies.columns = laws_and_policies.columns.str.replace(' ', '_')\n",
    "laws_and_policies.rename(columns={ laws_and_policies.columns[0]: \"id\" }, inplace = True) # renames column based on position\n",
    "laws_and_policies['Count'] = 1\n",
    "laws_and_policies.Count.sum()"
   ]
  },
  {
   "cell_type": "code",
   "execution_count": 3,
   "metadata": {},
   "outputs": [
    {
     "name": "stdout",
     "output_type": "stream",
     "text": [
      "sample size = 13\n"
     ]
    }
   ],
   "source": [
    "# create the sample of id's\n",
    "total_rows=laws_and_policies['id'].count()\n",
    "sample_size=int(round((total_rows+1)*0.2)) # sample size = 20% of dataset, because original dataset is raher small\n",
    "print(\"sample size = \" + str(sample_size))\n"
   ]
  },
  {
   "cell_type": "code",
   "execution_count": 4,
   "metadata": {},
   "outputs": [],
   "source": [
    "# # sub-set dataset \n",
    "# sample_list = list(np.random.choice(list(laws_and_policies.id), sample_size, replace=False))\n",
    "# laws_and_policies[laws_and_policies.id.isin(sample_list)][['Title','Keywords','Description','sector_agriculture', 'sector_LULUCF','matches','count_matches']].to_csv('datasets/samples/laws_and_policies.csv')"
   ]
  },
  {
   "cell_type": "code",
   "execution_count": 5,
   "metadata": {},
   "outputs": [],
   "source": [
    "# import random\n",
    "# random.seed(10)\n",
    "# sample_list = list(np.random.choice(list(laws_and_policies.id), sample_size, replace=False))\n",
    "# sample_list"
   ]
  },
  {
   "cell_type": "code",
   "execution_count": 6,
   "metadata": {},
   "outputs": [],
   "source": [
    "# population has only 63 laws and policies, therefore no sub-sample is needed\n",
    "laws_and_policies_sample=laws_and_policies[['Title','Keywords','Description','sector_agriculture', 'sector_LULUCF','matches','count_matches']].copy()\n",
    "laws_and_policies_sample.to_excel('datasets/samples/laws_and_policies.xlsx')"
   ]
  },
  {
   "cell_type": "markdown",
   "metadata": {},
   "source": [
    "# Patents"
   ]
  },
  {
   "cell_type": "code",
   "execution_count": 7,
   "metadata": {},
   "outputs": [
    {
     "data": {
      "text/plain": [
       "83"
      ]
     },
     "execution_count": 7,
     "metadata": {},
     "output_type": "execute_result"
    }
   ],
   "source": [
    "patents = pd.read_excel('datasets/patents_AGRI.xlsx')\n",
    "# patents=patents[patents[\"EU_country\"]>0]\n",
    "patents=patents[patents[\"After_2004\"]>0]\n",
    "patents=patents[patents[\"count_matches\"]>0]\n",
    "# del patents['EU_country']\n",
    "del patents['After_2004']\n",
    "patents.rename(columns={patents.columns[0]: \"id2\" }, inplace = True) # renames column based on position\n",
    "patents['Count'] = 1\n",
    "patents.Count.sum()"
   ]
  },
  {
   "cell_type": "code",
   "execution_count": 9,
   "metadata": {},
   "outputs": [],
   "source": [
    "# # create the sample of id's\n",
    "# total_rows=patents['id2'].count()\n",
    "# # total_rows\n",
    "# sample_size=int(round((total_rows+1)*0.01)) # sample size = 1% of dataset, because original dataset is raher large\n",
    "# print(\"sample size = \" + str(sample_size))"
   ]
  },
  {
   "cell_type": "code",
   "execution_count": 10,
   "metadata": {},
   "outputs": [],
   "source": [
    "# sub-set dataset \n",
    "# sample_list = list(np.random.choice(list(patents.id2), sample_size, replace=False))\n",
    "# patents[patents.id2.isin(sample_list)][['abstract','title','matches','count_matches']].to_csv('datasets/samples/patents.csv')"
   ]
  },
  {
   "cell_type": "code",
   "execution_count": 11,
   "metadata": {},
   "outputs": [],
   "source": [
    "# population has only 83 laws and policies, therefore no sub-sample is needed\n",
    "patents=patents[['title','abstract', 'matches','count_matches']].copy()\n",
    "patents.to_excel('datasets/samples/patents.xlsx')"
   ]
  }
 ],
 "metadata": {
  "kernelspec": {
   "display_name": "Python 3",
   "language": "python",
   "name": "python3"
  },
  "language_info": {
   "codemirror_mode": {
    "name": "ipython",
    "version": 3
   },
   "file_extension": ".py",
   "mimetype": "text/x-python",
   "name": "python",
   "nbconvert_exporter": "python",
   "pygments_lexer": "ipython3",
   "version": "3.7.6"
  }
 },
 "nbformat": 4,
 "nbformat_minor": 4
}
