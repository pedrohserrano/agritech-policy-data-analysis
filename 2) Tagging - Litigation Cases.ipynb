{
 "cells": [
  {
   "cell_type": "code",
   "execution_count": 1,
   "metadata": {},
   "outputs": [
    {
     "name": "stdout",
     "output_type": "stream",
     "text": [
      "terms to use: 28\n"
     ]
    },
    {
     "data": {
      "text/html": [
       "<div>\n",
       "<style scoped>\n",
       "    .dataframe tbody tr th:only-of-type {\n",
       "        vertical-align: middle;\n",
       "    }\n",
       "\n",
       "    .dataframe tbody tr th {\n",
       "        vertical-align: top;\n",
       "    }\n",
       "\n",
       "    .dataframe thead th {\n",
       "        text-align: right;\n",
       "    }\n",
       "</style>\n",
       "<table border=\"1\" class=\"dataframe\">\n",
       "  <thead>\n",
       "    <tr style=\"text-align: right;\">\n",
       "      <th></th>\n",
       "      <th>Title</th>\n",
       "      <th>Geography</th>\n",
       "      <th>Geography ISO</th>\n",
       "      <th>Jurisdiction</th>\n",
       "      <th>Citation Reference Number</th>\n",
       "      <th>Responses</th>\n",
       "      <th>At issue</th>\n",
       "      <th>Connected Internal Laws</th>\n",
       "      <th>Connected External Laws</th>\n",
       "      <th>Sectors</th>\n",
       "      <th>Side A</th>\n",
       "      <th>Side B</th>\n",
       "      <th>Side C</th>\n",
       "      <th>Events</th>\n",
       "      <th>Summary</th>\n",
       "    </tr>\n",
       "  </thead>\n",
       "  <tbody>\n",
       "    <tr>\n",
       "      <th>0</th>\n",
       "      <td>Mapuche Confederation of Neuquén v. YPF et al.</td>\n",
       "      <td>Argentina</td>\n",
       "      <td>ARG</td>\n",
       "      <td>Argentina</td>\n",
       "      <td>NaN</td>\n",
       "      <td>Mitigation</td>\n",
       "      <td>&lt;div&gt;Indigenous group filed criminal complaint...</td>\n",
       "      <td>NaN</td>\n",
       "      <td>NaN</td>\n",
       "      <td>NaN</td>\n",
       "      <td>Mapuche Confederation of Neuqu̩n|ngo</td>\n",
       "      <td>Subsecretary of the Environment, the Provision...</td>\n",
       "      <td>NaN</td>\n",
       "      <td>31/10/2018|Case opened||</td>\n",
       "      <td>&lt;div&gt;An indigenous group in Argentina is suing...</td>\n",
       "    </tr>\n",
       "    <tr>\n",
       "      <th>1</th>\n",
       "      <td>Hunter Environment Lobby Inc. v. Minister for ...</td>\n",
       "      <td>Australia</td>\n",
       "      <td>AUS</td>\n",
       "      <td>Australia</td>\n",
       "      <td>[2011] NSWLEC 221; [2012] NSWLEC 40</td>\n",
       "      <td>Mitigation</td>\n",
       "      <td>Challenge to conditions imposed on approval of...</td>\n",
       "      <td>NaN</td>\n",
       "      <td>NaN</td>\n",
       "      <td>NaN</td>\n",
       "      <td>Hunter Community Environment Centre Inc.|ngo</td>\n",
       "      <td>Minister for Planning and Delta Electricity|go...</td>\n",
       "      <td>NaN</td>\n",
       "      <td>25/12/2011|Case opened</td>\n",
       "      <td>The case relates to the approval of diverse ex...</td>\n",
       "    </tr>\n",
       "    <tr>\n",
       "      <th>2</th>\n",
       "      <td>Charles &amp; Howard Pty. Ltd. v. Redland Shire Co...</td>\n",
       "      <td>Australia</td>\n",
       "      <td>AUS</td>\n",
       "      <td>Australia</td>\n",
       "      <td>[2007] QCA 200</td>\n",
       "      <td>Adaptation</td>\n",
       "      <td>&lt;div&gt;Challenge to city council's decision limi...</td>\n",
       "      <td>NaN</td>\n",
       "      <td>NaN</td>\n",
       "      <td>NaN</td>\n",
       "      <td>Charles &amp; Howard Pty Ltd|corporation</td>\n",
       "      <td>Redland Shire Council|government</td>\n",
       "      <td>NaN</td>\n",
       "      <td>25/12/2008|Case opened||</td>\n",
       "      <td>&lt;div&gt;The owner of property located on Australi...</td>\n",
       "    </tr>\n",
       "    <tr>\n",
       "      <th>3</th>\n",
       "      <td>Spencer v. Commonwealth (High Court of Austral...</td>\n",
       "      <td>Australia</td>\n",
       "      <td>AUS</td>\n",
       "      <td>Australia</td>\n",
       "      <td>[2010] HCA 28</td>\n",
       "      <td>Mitigation</td>\n",
       "      <td>&lt;div&gt;Appeal of dismissal of challenge to statu...</td>\n",
       "      <td>NaN</td>\n",
       "      <td>NaN</td>\n",
       "      <td>NaN</td>\n",
       "      <td>Peter Spencer|individual</td>\n",
       "      <td>Commonwealth of Australia|government</td>\n",
       "      <td>NaN</td>\n",
       "      <td>25/12/2010|Case opened||</td>\n",
       "      <td>&lt;div&gt;The appellant challenged two state laws t...</td>\n",
       "    </tr>\n",
       "  </tbody>\n",
       "</table>\n",
       "</div>"
      ],
      "text/plain": [
       "                                               Title  Geography Geography ISO  \\\n",
       "0     Mapuche Confederation of Neuquén v. YPF et al.  Argentina           ARG   \n",
       "1  Hunter Environment Lobby Inc. v. Minister for ...  Australia           AUS   \n",
       "2  Charles & Howard Pty. Ltd. v. Redland Shire Co...  Australia           AUS   \n",
       "3  Spencer v. Commonwealth (High Court of Austral...  Australia           AUS   \n",
       "\n",
       "  Jurisdiction            Citation Reference Number   Responses  \\\n",
       "0    Argentina                                  NaN  Mitigation   \n",
       "1    Australia  [2011] NSWLEC 221; [2012] NSWLEC 40  Mitigation   \n",
       "2    Australia                       [2007] QCA 200  Adaptation   \n",
       "3    Australia                        [2010] HCA 28  Mitigation   \n",
       "\n",
       "                                            At issue Connected Internal Laws  \\\n",
       "0  <div>Indigenous group filed criminal complaint...                     NaN   \n",
       "1  Challenge to conditions imposed on approval of...                     NaN   \n",
       "2  <div>Challenge to city council's decision limi...                     NaN   \n",
       "3  <div>Appeal of dismissal of challenge to statu...                     NaN   \n",
       "\n",
       "  Connected External Laws Sectors  \\\n",
       "0                     NaN     NaN   \n",
       "1                     NaN     NaN   \n",
       "2                     NaN     NaN   \n",
       "3                     NaN     NaN   \n",
       "\n",
       "                                         Side A  \\\n",
       "0          Mapuche Confederation of Neuqu̩n|ngo   \n",
       "1  Hunter Community Environment Centre Inc.|ngo   \n",
       "2          Charles & Howard Pty Ltd|corporation   \n",
       "3                      Peter Spencer|individual   \n",
       "\n",
       "                                              Side B Side C  \\\n",
       "0  Subsecretary of the Environment, the Provision...    NaN   \n",
       "1  Minister for Planning and Delta Electricity|go...    NaN   \n",
       "2                   Redland Shire Council|government    NaN   \n",
       "3               Commonwealth of Australia|government    NaN   \n",
       "\n",
       "                     Events                                            Summary  \n",
       "0  31/10/2018|Case opened||  <div>An indigenous group in Argentina is suing...  \n",
       "1    25/12/2011|Case opened  The case relates to the approval of diverse ex...  \n",
       "2  25/12/2008|Case opened||  <div>The owner of property located on Australi...  \n",
       "3  25/12/2010|Case opened||  <div>The appellant challenged two state laws t...  "
      ]
     },
     "execution_count": 1,
     "metadata": {},
     "output_type": "execute_result"
    }
   ],
   "source": [
    "from flashtext import KeywordProcessor\n",
    "import time\n",
    "import pandas as pd\n",
    "import warnings\n",
    "warnings.filterwarnings(\"ignore\")\n",
    "\n",
    "terms = ['agriculture','agricultural','agritech','agtech','agronomy','farming','gardening','agronomics','agrology','horticulture','agribusiness','cultivation', 'forestry', 'animal husbandry', 'hunting', 'fishing', 'planting', 'sowing', 'fertisiling', 'harvesting', 'mowing','aviculture', 'apiculture', 'pisciculture', 'sowing', 'planting', 'manuring', 'harvesting']\n",
    "print('terms to use: {}'.format(len(terms)))\n",
    "litigation_cases = pd.read_csv('datasets/litigation_cases_06072020.csv')\n",
    "litigation_cases.head(4)"
   ]
  },
  {
   "cell_type": "code",
   "execution_count": 12,
   "metadata": {},
   "outputs": [
    {
     "data": {
      "text/plain": [
       "375"
      ]
     },
     "execution_count": 12,
     "metadata": {},
     "output_type": "execute_result"
    }
   ],
   "source": [
    "len(litigation_cases)"
   ]
  },
  {
   "cell_type": "markdown",
   "metadata": {},
   "source": [
    "---\n",
    "## Tagging CCM Litigation cases related to Agriculture"
   ]
  },
  {
   "cell_type": "code",
   "execution_count": 2,
   "metadata": {},
   "outputs": [],
   "source": [
    "def extract(vec, dictionary, info=False):\n",
    "    matrix = []\n",
    "    for line in vec:\n",
    "        matrix.append(dictionary.extract_keywords(str(line), span_info=info))\n",
    "    return matrix"
   ]
  },
  {
   "cell_type": "code",
   "execution_count": 3,
   "metadata": {},
   "outputs": [
    {
     "data": {
      "text/plain": [
       "1"
      ]
     },
     "execution_count": 3,
     "metadata": {},
     "output_type": "execute_result"
    }
   ],
   "source": [
    "litigation_cases['sector_agriculture'] = litigation_cases.Sectors.apply(lambda x: (1 if 'Agriculture' in str(x) else 0))\n",
    "litigation_cases.sector_agriculture.sum()"
   ]
  },
  {
   "cell_type": "code",
   "execution_count": 4,
   "metadata": {},
   "outputs": [
    {
     "name": "stdout",
     "output_type": "stream",
     "text": [
      "25\n"
     ]
    }
   ],
   "source": [
    "terms_dict = KeywordProcessor()\n",
    "terms_dict.add_keywords_from_list(terms)\n",
    "terms_extracted = extract(litigation_cases.Summary, terms_dict)\n",
    "rows = [list(set(i)) if len(i)>0 else '' for i in terms_extracted]\n",
    "litigation_cases['matches'] = [str(i).replace('[', '').replace(']', '') for i in rows]\n",
    "litigation_cases['count_matches'] = [len(i) for i in terms_extracted]\n",
    "\n",
    "\n",
    "litigation_cases['agriculture_litigation'] = litigation_cases['count_matches']+litigation_cases['sector_agriculture']\n",
    "print(litigation_cases.agriculture_litigation.sum())"
   ]
  },
  {
   "cell_type": "markdown",
   "metadata": {},
   "source": [
    "---\n",
    "## Subsetting dataset to agriculture related cases in EU"
   ]
  },
  {
   "cell_type": "code",
   "execution_count": 5,
   "metadata": {},
   "outputs": [
    {
     "data": {
      "text/plain": [
       "170"
      ]
     },
     "execution_count": 5,
     "metadata": {},
     "output_type": "execute_result"
    }
   ],
   "source": [
    "# selecting the relevant countries\n",
    "# data_laws.Geography.unique()\n",
    "EU=['Austria','Belgium','Bulgaria','Croatia','Cyprus','Czechia','Denmark','Estonia','European Union','Finland', 'France','Germany','Greece','Hungary', 'Ireland', 'Italy','Latvia','Lithuania','Luxembourg','Malta', 'Netherlands','Poland', 'Portugal','Romania','Slovakia', 'Slovenia', 'Spain', 'Sweden','United Kingdom',]\n",
    "\n",
    "# creating dummy for EU country (individual countries + European Union)\n",
    "EU_country= []\n",
    "for i in litigation_cases.Geography:\n",
    "    country =  1 if i in EU else 0\n",
    "    EU_country.append(country)\n",
    "    \n",
    "# adding the dummy to the original dataset\n",
    "litigation_cases['EU_country']=EU_country\n",
    "litigation_cases.EU_country.sum()"
   ]
  },
  {
   "cell_type": "code",
   "execution_count": 9,
   "metadata": {},
   "outputs": [],
   "source": [
    "# subset dataset with only EU countries\n",
    "litigation_cases_subset=litigation_cases[litigation_cases[\"EU_country\"]>0] \n",
    "litigation_cases_subset=litigation_cases_subset.sort_values(by=['EU_country'], ascending=False)"
   ]
  },
  {
   "cell_type": "code",
   "execution_count": 10,
   "metadata": {},
   "outputs": [
    {
     "data": {
      "text/plain": [
       "170"
      ]
     },
     "execution_count": 10,
     "metadata": {},
     "output_type": "execute_result"
    }
   ],
   "source": [
    "len(litigation_cases_subset)"
   ]
  },
  {
   "cell_type": "code",
   "execution_count": 11,
   "metadata": {},
   "outputs": [],
   "source": [
    "# subset dataset with only agriculture litigation cases\n",
    "litigation_cases_subset=litigation_cases_subset[litigation_cases_subset[\"agriculture_litigation\"]>0] \n",
    "litigation_cases_subset=litigation_cases_subset.sort_values(by=['agriculture_litigation'], ascending=False)"
   ]
  },
  {
   "cell_type": "markdown",
   "metadata": {},
   "source": [
    "---\n",
    "## Save as Excel file"
   ]
  },
  {
   "cell_type": "code",
   "execution_count": null,
   "metadata": {},
   "outputs": [],
   "source": [
    "litigation_cases_subset.sort_values('count_matches', ascending=False).to_excel('datasets/litigation_cases_AGRI.xlsx')\n",
    "litigation_cases_subset.head()"
   ]
  }
 ],
 "metadata": {
  "kernelspec": {
   "display_name": "Python 3",
   "language": "python",
   "name": "python3"
  },
  "language_info": {
   "codemirror_mode": {
    "name": "ipython",
    "version": 3
   },
   "file_extension": ".py",
   "mimetype": "text/x-python",
   "name": "python",
   "nbconvert_exporter": "python",
   "pygments_lexer": "ipython3",
   "version": "3.7.6"
  }
 },
 "nbformat": 4,
 "nbformat_minor": 4
}
